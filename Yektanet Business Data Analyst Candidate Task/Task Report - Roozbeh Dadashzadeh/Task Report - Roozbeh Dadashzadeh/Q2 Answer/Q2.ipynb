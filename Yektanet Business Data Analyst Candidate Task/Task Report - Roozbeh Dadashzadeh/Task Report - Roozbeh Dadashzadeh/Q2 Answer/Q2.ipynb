{
 "cells": [
  {
   "cell_type": "code",
   "execution_count": 2,
   "metadata": {},
   "outputs": [],
   "source": [
    "import pandas as pd"
   ]
  },
  {
   "cell_type": "code",
   "execution_count": 3,
   "metadata": {},
   "outputs": [],
   "source": [
    "accounts = pd.read_csv('Q2 Data\\Accounts + Status.csv')\n",
    "tasks = pd.read_csv('Q2 Data\\Tasks.csv')\n",
    "tickets = pd.read_csv('Q2 Data\\Tickets.csv')\n",
    "transactions = pd.read_csv('Q2 Data\\Transactions.csv')\n"
   ]
  },
  {
   "cell_type": "code",
   "execution_count": 4,
   "metadata": {},
   "outputs": [
    {
     "output_type": "execute_result",
     "data": {
      "text/plain": "      crm_account_id status_change_time status_title  account_manager_id\n0                  2     10/31/19 16:54      غیرفعال                  46\n1                  4      10/9/19 20:54   در حال خرج                   9\n2                  9     10/31/19 16:47      غیرفعال                   9\n3                 14     10/31/19 16:50      غیرفعال                   9\n4                 17     10/31/19 16:48      غیرفعال                   9\n...              ...                ...          ...                 ...\n8288           19256     11/13/19 11:33      ثبت‌نام                   8\n8289           19257     11/13/19 11:40      ثبت‌نام                  46\n8290           19258     11/13/19 11:54   در حال خرج                  46\n8291           19258     11/13/19 12:09   در حال خرج                  46\n8292           19260     11/13/19 12:41      ثبت‌نام                  46\n\n[8293 rows x 4 columns]",
      "text/html": "<div>\n<style scoped>\n    .dataframe tbody tr th:only-of-type {\n        vertical-align: middle;\n    }\n\n    .dataframe tbody tr th {\n        vertical-align: top;\n    }\n\n    .dataframe thead th {\n        text-align: right;\n    }\n</style>\n<table border=\"1\" class=\"dataframe\">\n  <thead>\n    <tr style=\"text-align: right;\">\n      <th></th>\n      <th>crm_account_id</th>\n      <th>status_change_time</th>\n      <th>status_title</th>\n      <th>account_manager_id</th>\n    </tr>\n  </thead>\n  <tbody>\n    <tr>\n      <th>0</th>\n      <td>2</td>\n      <td>10/31/19 16:54</td>\n      <td>غیرفعال</td>\n      <td>46</td>\n    </tr>\n    <tr>\n      <th>1</th>\n      <td>4</td>\n      <td>10/9/19 20:54</td>\n      <td>در حال خرج</td>\n      <td>9</td>\n    </tr>\n    <tr>\n      <th>2</th>\n      <td>9</td>\n      <td>10/31/19 16:47</td>\n      <td>غیرفعال</td>\n      <td>9</td>\n    </tr>\n    <tr>\n      <th>3</th>\n      <td>14</td>\n      <td>10/31/19 16:50</td>\n      <td>غیرفعال</td>\n      <td>9</td>\n    </tr>\n    <tr>\n      <th>4</th>\n      <td>17</td>\n      <td>10/31/19 16:48</td>\n      <td>غیرفعال</td>\n      <td>9</td>\n    </tr>\n    <tr>\n      <th>...</th>\n      <td>...</td>\n      <td>...</td>\n      <td>...</td>\n      <td>...</td>\n    </tr>\n    <tr>\n      <th>8288</th>\n      <td>19256</td>\n      <td>11/13/19 11:33</td>\n      <td>ثبت‌نام</td>\n      <td>8</td>\n    </tr>\n    <tr>\n      <th>8289</th>\n      <td>19257</td>\n      <td>11/13/19 11:40</td>\n      <td>ثبت‌نام</td>\n      <td>46</td>\n    </tr>\n    <tr>\n      <th>8290</th>\n      <td>19258</td>\n      <td>11/13/19 11:54</td>\n      <td>در حال خرج</td>\n      <td>46</td>\n    </tr>\n    <tr>\n      <th>8291</th>\n      <td>19258</td>\n      <td>11/13/19 12:09</td>\n      <td>در حال خرج</td>\n      <td>46</td>\n    </tr>\n    <tr>\n      <th>8292</th>\n      <td>19260</td>\n      <td>11/13/19 12:41</td>\n      <td>ثبت‌نام</td>\n      <td>46</td>\n    </tr>\n  </tbody>\n</table>\n<p>8293 rows × 4 columns</p>\n</div>"
     },
     "metadata": {},
     "execution_count": 4
    }
   ],
   "source": [
    "accounts"
   ]
  },
  {
   "cell_type": "code",
   "execution_count": 5,
   "metadata": {},
   "outputs": [
    {
     "output_type": "stream",
     "name": "stdout",
     "text": "<class 'pandas.core.frame.DataFrame'>\nRangeIndex: 8293 entries, 0 to 8292\nData columns (total 4 columns):\n #   Column              Non-Null Count  Dtype         \n---  ------              --------------  -----         \n 0   crm_account_id      8293 non-null   int64         \n 1   status_change_time  8293 non-null   datetime64[ns]\n 2   status_title        8293 non-null   object        \n 3   account_manager_id  8293 non-null   int64         \ndtypes: datetime64[ns](1), int64(2), object(1)\nmemory usage: 259.3+ KB\n"
    },
    {
     "output_type": "execute_result",
     "data": {
      "text/plain": "   crm_account_id  status_change_time status_title  account_manager_id\n0               2 2019-10-31 16:54:00      غیرفعال                  46\n1               4 2019-10-09 20:54:00   در حال خرج                   9\n2               9 2019-10-31 16:47:00      غیرفعال                   9\n3              14 2019-10-31 16:50:00      غیرفعال                   9\n4              17 2019-10-31 16:48:00      غیرفعال                   9",
      "text/html": "<div>\n<style scoped>\n    .dataframe tbody tr th:only-of-type {\n        vertical-align: middle;\n    }\n\n    .dataframe tbody tr th {\n        vertical-align: top;\n    }\n\n    .dataframe thead th {\n        text-align: right;\n    }\n</style>\n<table border=\"1\" class=\"dataframe\">\n  <thead>\n    <tr style=\"text-align: right;\">\n      <th></th>\n      <th>crm_account_id</th>\n      <th>status_change_time</th>\n      <th>status_title</th>\n      <th>account_manager_id</th>\n    </tr>\n  </thead>\n  <tbody>\n    <tr>\n      <th>0</th>\n      <td>2</td>\n      <td>2019-10-31 16:54:00</td>\n      <td>غیرفعال</td>\n      <td>46</td>\n    </tr>\n    <tr>\n      <th>1</th>\n      <td>4</td>\n      <td>2019-10-09 20:54:00</td>\n      <td>در حال خرج</td>\n      <td>9</td>\n    </tr>\n    <tr>\n      <th>2</th>\n      <td>9</td>\n      <td>2019-10-31 16:47:00</td>\n      <td>غیرفعال</td>\n      <td>9</td>\n    </tr>\n    <tr>\n      <th>3</th>\n      <td>14</td>\n      <td>2019-10-31 16:50:00</td>\n      <td>غیرفعال</td>\n      <td>9</td>\n    </tr>\n    <tr>\n      <th>4</th>\n      <td>17</td>\n      <td>2019-10-31 16:48:00</td>\n      <td>غیرفعال</td>\n      <td>9</td>\n    </tr>\n  </tbody>\n</table>\n</div>"
     },
     "metadata": {},
     "execution_count": 5
    }
   ],
   "source": [
    "# Accounts + Status\n",
    "accounts['status_change_time'] = pd.to_datetime(accounts['status_change_time'], format=\"%m/%d/%y %H:%M\")\n",
    "\n",
    "accounts.info()\n",
    "accounts.head()"
   ]
  },
  {
   "cell_type": "code",
   "execution_count": 6,
   "metadata": {},
   "outputs": [
    {
     "output_type": "execute_result",
     "data": {
      "text/plain": "      crm_account_id task_created_time task_finish_datetime  assigned_to_id  \\\n0              12354      9/10/19 0:45        9/12/19 10:01               8   \n1               5212      9/10/19 0:45        9/11/19 16:38               8   \n2              16284      9/10/19 9:37        9/14/19 10:16               9   \n3              15052     9/10/19 10:00        9/11/19 12:26               8   \n4               6296     9/10/19 10:00        9/11/19 11:36               8   \n...              ...               ...                  ...             ...   \n5089           19255    11/13/19 11:29                  NaN               9   \n5090           19256    11/13/19 11:37       11/13/19 12:04               8   \n5091           19257    11/13/19 11:46                  NaN              46   \n5092           19258    11/13/19 11:56                  NaN              46   \n5093           18352    11/13/19 12:51       11/13/19 12:52               8   \n\n                                   title  \n0            بررسی کمپین‌های تبلیغ‌کننده  \n1            بررسی کمپین‌های تبلیغ‌کننده  \n2          اولین ورود تبلیغ‌کننده به پنل  \n3            پایان شارژ حساب تبلیغ‌کننده  \n4            پایان شارژ حساب تبلیغ‌کننده  \n...                                  ...  \n5089  تماس با تبلیغ‌کننده تازه تایید شده  \n5090  تماس با تبلیغ‌کننده تازه تایید شده  \n5091  تماس با تبلیغ‌کننده تازه تایید شده  \n5092  تماس با تبلیغ‌کننده تازه تایید شده  \n5093         بررسی کمپین‌های تبلیغ‌کننده  \n\n[5094 rows x 5 columns]",
      "text/html": "<div>\n<style scoped>\n    .dataframe tbody tr th:only-of-type {\n        vertical-align: middle;\n    }\n\n    .dataframe tbody tr th {\n        vertical-align: top;\n    }\n\n    .dataframe thead th {\n        text-align: right;\n    }\n</style>\n<table border=\"1\" class=\"dataframe\">\n  <thead>\n    <tr style=\"text-align: right;\">\n      <th></th>\n      <th>crm_account_id</th>\n      <th>task_created_time</th>\n      <th>task_finish_datetime</th>\n      <th>assigned_to_id</th>\n      <th>title</th>\n    </tr>\n  </thead>\n  <tbody>\n    <tr>\n      <th>0</th>\n      <td>12354</td>\n      <td>9/10/19 0:45</td>\n      <td>9/12/19 10:01</td>\n      <td>8</td>\n      <td>بررسی کمپین‌های تبلیغ‌کننده</td>\n    </tr>\n    <tr>\n      <th>1</th>\n      <td>5212</td>\n      <td>9/10/19 0:45</td>\n      <td>9/11/19 16:38</td>\n      <td>8</td>\n      <td>بررسی کمپین‌های تبلیغ‌کننده</td>\n    </tr>\n    <tr>\n      <th>2</th>\n      <td>16284</td>\n      <td>9/10/19 9:37</td>\n      <td>9/14/19 10:16</td>\n      <td>9</td>\n      <td>اولین ورود تبلیغ‌کننده به پنل</td>\n    </tr>\n    <tr>\n      <th>3</th>\n      <td>15052</td>\n      <td>9/10/19 10:00</td>\n      <td>9/11/19 12:26</td>\n      <td>8</td>\n      <td>پایان شارژ حساب تبلیغ‌کننده</td>\n    </tr>\n    <tr>\n      <th>4</th>\n      <td>6296</td>\n      <td>9/10/19 10:00</td>\n      <td>9/11/19 11:36</td>\n      <td>8</td>\n      <td>پایان شارژ حساب تبلیغ‌کننده</td>\n    </tr>\n    <tr>\n      <th>...</th>\n      <td>...</td>\n      <td>...</td>\n      <td>...</td>\n      <td>...</td>\n      <td>...</td>\n    </tr>\n    <tr>\n      <th>5089</th>\n      <td>19255</td>\n      <td>11/13/19 11:29</td>\n      <td>NaN</td>\n      <td>9</td>\n      <td>تماس با تبلیغ‌کننده تازه تایید شده</td>\n    </tr>\n    <tr>\n      <th>5090</th>\n      <td>19256</td>\n      <td>11/13/19 11:37</td>\n      <td>11/13/19 12:04</td>\n      <td>8</td>\n      <td>تماس با تبلیغ‌کننده تازه تایید شده</td>\n    </tr>\n    <tr>\n      <th>5091</th>\n      <td>19257</td>\n      <td>11/13/19 11:46</td>\n      <td>NaN</td>\n      <td>46</td>\n      <td>تماس با تبلیغ‌کننده تازه تایید شده</td>\n    </tr>\n    <tr>\n      <th>5092</th>\n      <td>19258</td>\n      <td>11/13/19 11:56</td>\n      <td>NaN</td>\n      <td>46</td>\n      <td>تماس با تبلیغ‌کننده تازه تایید شده</td>\n    </tr>\n    <tr>\n      <th>5093</th>\n      <td>18352</td>\n      <td>11/13/19 12:51</td>\n      <td>11/13/19 12:52</td>\n      <td>8</td>\n      <td>بررسی کمپین‌های تبلیغ‌کننده</td>\n    </tr>\n  </tbody>\n</table>\n<p>5094 rows × 5 columns</p>\n</div>"
     },
     "metadata": {},
     "execution_count": 6
    }
   ],
   "source": [
    "tasks"
   ]
  },
  {
   "cell_type": "code",
   "execution_count": 7,
   "metadata": {},
   "outputs": [
    {
     "output_type": "stream",
     "name": "stdout",
     "text": "<class 'pandas.core.frame.DataFrame'>\nDatetimeIndex: 5094 entries, 2019-09-10 00:45:00 to 2019-11-13 12:51:00\nData columns (total 5 columns):\n #   Column                Non-Null Count  Dtype          \n---  ------                --------------  -----          \n 0   crm_account_id        5094 non-null   int64          \n 1   task_finish_datetime  2958 non-null   datetime64[ns] \n 2   assigned_to_id        5094 non-null   int64          \n 3   title                 5094 non-null   object         \n 4   task_completion_time  2958 non-null   timedelta64[ns]\ndtypes: datetime64[ns](1), int64(2), object(1), timedelta64[ns](1)\nmemory usage: 238.8+ KB\n"
    },
    {
     "output_type": "execute_result",
     "data": {
      "text/plain": "count                      2958\nmean     1 days 17:14:08.052738\nstd      3 days 07:15:58.491583\nmin             0 days 00:00:00\n25%             0 days 05:09:45\n50%             0 days 21:01:00\n75%             2 days 01:11:00\nmax            37 days 18:51:00\nName: task_completion_time, dtype: object"
     },
     "metadata": {},
     "execution_count": 7
    }
   ],
   "source": [
    "# Tasks\n",
    "tasks['task_created_time'] = pd.to_datetime(tasks['task_created_time'], format=\"%m/%d/%y %H:%M\")\n",
    "tasks['task_finish_datetime'] = pd.to_datetime(tasks['task_finish_datetime'], format=\"%m/%d/%y %H:%M\")\n",
    "\n",
    "tasks['task_completion_time'] = tasks['task_finish_datetime'] - tasks['task_created_time']\n",
    "\n",
    "tasks = tasks.set_index(\"task_created_time\")\n",
    "\n",
    "tasks.info()\n",
    "tasks['task_completion_time'].describe()\n"
   ]
  },
  {
   "cell_type": "code",
   "execution_count": 8,
   "metadata": {},
   "outputs": [
    {
     "output_type": "execute_result",
     "data": {
      "text/plain": "                     crm_account_id task_finish_datetime  assigned_to_id  \\\ntask_created_time                                                          \n2019-09-10 00:45:00           12354  2019-09-12 10:01:00               8   \n2019-09-10 00:45:00            5212  2019-09-11 16:38:00               8   \n2019-09-10 09:37:00           16284  2019-09-14 10:16:00               9   \n2019-09-10 10:00:00           15052  2019-09-11 12:26:00               8   \n2019-09-10 10:00:00            6296  2019-09-11 11:36:00               8   \n...                             ...                  ...             ...   \n2019-11-13 11:29:00           19255                  NaT               9   \n2019-11-13 11:37:00           19256  2019-11-13 12:04:00               8   \n2019-11-13 11:46:00           19257                  NaT              46   \n2019-11-13 11:56:00           19258                  NaT              46   \n2019-11-13 12:51:00           18352  2019-11-13 12:52:00               8   \n\n                                                  title task_completion_time  \ntask_created_time                                                             \n2019-09-10 00:45:00         بررسی کمپین‌های تبلیغ‌کننده      2 days 09:16:00  \n2019-09-10 00:45:00         بررسی کمپین‌های تبلیغ‌کننده      1 days 15:53:00  \n2019-09-10 09:37:00       اولین ورود تبلیغ‌کننده به پنل      4 days 00:39:00  \n2019-09-10 10:00:00         پایان شارژ حساب تبلیغ‌کننده      1 days 02:26:00  \n2019-09-10 10:00:00         پایان شارژ حساب تبلیغ‌کننده      1 days 01:36:00  \n...                                                 ...                  ...  \n2019-11-13 11:29:00  تماس با تبلیغ‌کننده تازه تایید شده                  NaT  \n2019-11-13 11:37:00  تماس با تبلیغ‌کننده تازه تایید شده      0 days 00:27:00  \n2019-11-13 11:46:00  تماس با تبلیغ‌کننده تازه تایید شده                  NaT  \n2019-11-13 11:56:00  تماس با تبلیغ‌کننده تازه تایید شده                  NaT  \n2019-11-13 12:51:00         بررسی کمپین‌های تبلیغ‌کننده      0 days 00:01:00  \n\n[5094 rows x 5 columns]",
      "text/html": "<div>\n<style scoped>\n    .dataframe tbody tr th:only-of-type {\n        vertical-align: middle;\n    }\n\n    .dataframe tbody tr th {\n        vertical-align: top;\n    }\n\n    .dataframe thead th {\n        text-align: right;\n    }\n</style>\n<table border=\"1\" class=\"dataframe\">\n  <thead>\n    <tr style=\"text-align: right;\">\n      <th></th>\n      <th>crm_account_id</th>\n      <th>task_finish_datetime</th>\n      <th>assigned_to_id</th>\n      <th>title</th>\n      <th>task_completion_time</th>\n    </tr>\n    <tr>\n      <th>task_created_time</th>\n      <th></th>\n      <th></th>\n      <th></th>\n      <th></th>\n      <th></th>\n    </tr>\n  </thead>\n  <tbody>\n    <tr>\n      <th>2019-09-10 00:45:00</th>\n      <td>12354</td>\n      <td>2019-09-12 10:01:00</td>\n      <td>8</td>\n      <td>بررسی کمپین‌های تبلیغ‌کننده</td>\n      <td>2 days 09:16:00</td>\n    </tr>\n    <tr>\n      <th>2019-09-10 00:45:00</th>\n      <td>5212</td>\n      <td>2019-09-11 16:38:00</td>\n      <td>8</td>\n      <td>بررسی کمپین‌های تبلیغ‌کننده</td>\n      <td>1 days 15:53:00</td>\n    </tr>\n    <tr>\n      <th>2019-09-10 09:37:00</th>\n      <td>16284</td>\n      <td>2019-09-14 10:16:00</td>\n      <td>9</td>\n      <td>اولین ورود تبلیغ‌کننده به پنل</td>\n      <td>4 days 00:39:00</td>\n    </tr>\n    <tr>\n      <th>2019-09-10 10:00:00</th>\n      <td>15052</td>\n      <td>2019-09-11 12:26:00</td>\n      <td>8</td>\n      <td>پایان شارژ حساب تبلیغ‌کننده</td>\n      <td>1 days 02:26:00</td>\n    </tr>\n    <tr>\n      <th>2019-09-10 10:00:00</th>\n      <td>6296</td>\n      <td>2019-09-11 11:36:00</td>\n      <td>8</td>\n      <td>پایان شارژ حساب تبلیغ‌کننده</td>\n      <td>1 days 01:36:00</td>\n    </tr>\n    <tr>\n      <th>...</th>\n      <td>...</td>\n      <td>...</td>\n      <td>...</td>\n      <td>...</td>\n      <td>...</td>\n    </tr>\n    <tr>\n      <th>2019-11-13 11:29:00</th>\n      <td>19255</td>\n      <td>NaT</td>\n      <td>9</td>\n      <td>تماس با تبلیغ‌کننده تازه تایید شده</td>\n      <td>NaT</td>\n    </tr>\n    <tr>\n      <th>2019-11-13 11:37:00</th>\n      <td>19256</td>\n      <td>2019-11-13 12:04:00</td>\n      <td>8</td>\n      <td>تماس با تبلیغ‌کننده تازه تایید شده</td>\n      <td>0 days 00:27:00</td>\n    </tr>\n    <tr>\n      <th>2019-11-13 11:46:00</th>\n      <td>19257</td>\n      <td>NaT</td>\n      <td>46</td>\n      <td>تماس با تبلیغ‌کننده تازه تایید شده</td>\n      <td>NaT</td>\n    </tr>\n    <tr>\n      <th>2019-11-13 11:56:00</th>\n      <td>19258</td>\n      <td>NaT</td>\n      <td>46</td>\n      <td>تماس با تبلیغ‌کننده تازه تایید شده</td>\n      <td>NaT</td>\n    </tr>\n    <tr>\n      <th>2019-11-13 12:51:00</th>\n      <td>18352</td>\n      <td>2019-11-13 12:52:00</td>\n      <td>8</td>\n      <td>بررسی کمپین‌های تبلیغ‌کننده</td>\n      <td>0 days 00:01:00</td>\n    </tr>\n  </tbody>\n</table>\n<p>5094 rows × 5 columns</p>\n</div>"
     },
     "metadata": {},
     "execution_count": 8
    }
   ],
   "source": [
    "tasks"
   ]
  },
  {
   "cell_type": "code",
   "execution_count": 9,
   "metadata": {},
   "outputs": [
    {
     "output_type": "execute_result",
     "data": {
      "text/plain": "                                                crm_account_id\ntitle                                                         \nاولین ورود تبلیغ‌کننده به پنل                              272\nبررسی افت خرج تبلیغ‌کننده                                   55\nبررسی دوره‌ای کمپین‌های ویژه مشتری                         799\nبررسی علت توقف کمپین تبلیغ‌کننده وفادار یا vip             108\nبررسی علت توقف کمپین تبلیغ‌کننده‌                         2012\nبررسی علت عدم ادامه همکاری تبلیغ‌کننده                     315\nبررسی وضعیت تبلیغ‌کننده برای اولین بار                     327\nبررسی وضعیت شارژ لید مشتری شده                               4\nبررسی کمپین‌های تبلیغ‌کننده                                150\nتماس اولیه با لید تازه‌وارد                                  6\nتماس با تبلیغ‌کننده تازه تایید شده                         732\nتماس برای ارائه راهنمایی‌های فنی                             4\nتنظیم جلسه با مشتری/ لید                                     1\nخوش‌آمدگویی به مشتری‌ای که دوباره برگشته                   157\nپایان شارژ حساب تبلیغ‌کننده                                152",
      "text/html": "<div>\n<style scoped>\n    .dataframe tbody tr th:only-of-type {\n        vertical-align: middle;\n    }\n\n    .dataframe tbody tr th {\n        vertical-align: top;\n    }\n\n    .dataframe thead th {\n        text-align: right;\n    }\n</style>\n<table border=\"1\" class=\"dataframe\">\n  <thead>\n    <tr style=\"text-align: right;\">\n      <th></th>\n      <th>crm_account_id</th>\n    </tr>\n    <tr>\n      <th>title</th>\n      <th></th>\n    </tr>\n  </thead>\n  <tbody>\n    <tr>\n      <th>اولین ورود تبلیغ‌کننده به پنل</th>\n      <td>272</td>\n    </tr>\n    <tr>\n      <th>بررسی افت خرج تبلیغ‌کننده</th>\n      <td>55</td>\n    </tr>\n    <tr>\n      <th>بررسی دوره‌ای کمپین‌های ویژه مشتری</th>\n      <td>799</td>\n    </tr>\n    <tr>\n      <th>بررسی علت توقف کمپین تبلیغ‌کننده وفادار یا vip</th>\n      <td>108</td>\n    </tr>\n    <tr>\n      <th>بررسی علت توقف کمپین تبلیغ‌کننده‌</th>\n      <td>2012</td>\n    </tr>\n    <tr>\n      <th>بررسی علت عدم ادامه همکاری تبلیغ‌کننده</th>\n      <td>315</td>\n    </tr>\n    <tr>\n      <th>بررسی وضعیت تبلیغ‌کننده برای اولین بار</th>\n      <td>327</td>\n    </tr>\n    <tr>\n      <th>بررسی وضعیت شارژ لید مشتری شده</th>\n      <td>4</td>\n    </tr>\n    <tr>\n      <th>بررسی کمپین‌های تبلیغ‌کننده</th>\n      <td>150</td>\n    </tr>\n    <tr>\n      <th>تماس اولیه با لید تازه‌وارد</th>\n      <td>6</td>\n    </tr>\n    <tr>\n      <th>تماس با تبلیغ‌کننده تازه تایید شده</th>\n      <td>732</td>\n    </tr>\n    <tr>\n      <th>تماس برای ارائه راهنمایی‌های فنی</th>\n      <td>4</td>\n    </tr>\n    <tr>\n      <th>تنظیم جلسه با مشتری/ لید</th>\n      <td>1</td>\n    </tr>\n    <tr>\n      <th>خوش‌آمدگویی به مشتری‌ای که دوباره برگشته</th>\n      <td>157</td>\n    </tr>\n    <tr>\n      <th>پایان شارژ حساب تبلیغ‌کننده</th>\n      <td>152</td>\n    </tr>\n  </tbody>\n</table>\n</div>"
     },
     "metadata": {},
     "execution_count": 9
    }
   ],
   "source": [
    "tasks_by_title = tasks.groupby('title').count()\n",
    "tasks_by_title.iloc[:, [0]]"
   ]
  },
  {
   "cell_type": "code",
   "execution_count": 10,
   "metadata": {},
   "outputs": [
    {
     "output_type": "execute_result",
     "data": {
      "text/plain": "     crm_account_id                   message_date  \\\n0               960   Wednesday, November 13, 2019   \n1             18214     Tuesday, November 12, 2019   \n2             17932     Tuesday, November 12, 2019   \n3             19203     Tuesday, November 12, 2019   \n4             11622     Tuesday, November 12, 2019   \n..              ...                            ...   \n447              19  Wednesday, September 11, 2019   \n448           15637  Wednesday, September 11, 2019   \n449           14505  Wednesday, September 11, 2019   \n450            2921    Tuesday, September 10, 2019   \n451           16293    Tuesday, September 10, 2019   \n\n                       answer_date  responder_id  \\\n0     Wednesday, November 13, 2019            46   \n1     Wednesday, November 13, 2019            46   \n2     Wednesday, November 13, 2019             8   \n3     Wednesday, November 13, 2019            46   \n4       Tuesday, November 12, 2019             9   \n..                             ...           ...   \n447  Wednesday, September 11, 2019             8   \n448  Wednesday, September 11, 2019             8   \n449  Wednesday, September 11, 2019             8   \n450  Wednesday, September 11, 2019             8   \n451    Tuesday, September 10, 2019             8   \n\n                           ticket_type  \n0                 سوال کلی تبلیغ‌کننده  \n1             درخواست بررسی حساب مسدود  \n2        گزارش مشکل در پنل تبلیغ‌کننده  \n3                 سوال کلی تبلیغ‌کننده  \n4                 سوال کلی تبلیغ‌کننده  \n..                                 ...  \n447  سوال و مشکل فنی در مورد کمپین‌ها   \n448                 مالی و صدور فاکتور  \n449  سوال و مشکل فنی در مورد کمپین‌ها   \n450               سوال کلی تبلیغ‌کننده  \n451  سوال و مشکل فنی در مورد کمپین‌ها   \n\n[452 rows x 5 columns]",
      "text/html": "<div>\n<style scoped>\n    .dataframe tbody tr th:only-of-type {\n        vertical-align: middle;\n    }\n\n    .dataframe tbody tr th {\n        vertical-align: top;\n    }\n\n    .dataframe thead th {\n        text-align: right;\n    }\n</style>\n<table border=\"1\" class=\"dataframe\">\n  <thead>\n    <tr style=\"text-align: right;\">\n      <th></th>\n      <th>crm_account_id</th>\n      <th>message_date</th>\n      <th>answer_date</th>\n      <th>responder_id</th>\n      <th>ticket_type</th>\n    </tr>\n  </thead>\n  <tbody>\n    <tr>\n      <th>0</th>\n      <td>960</td>\n      <td>Wednesday, November 13, 2019</td>\n      <td>Wednesday, November 13, 2019</td>\n      <td>46</td>\n      <td>سوال کلی تبلیغ‌کننده</td>\n    </tr>\n    <tr>\n      <th>1</th>\n      <td>18214</td>\n      <td>Tuesday, November 12, 2019</td>\n      <td>Wednesday, November 13, 2019</td>\n      <td>46</td>\n      <td>درخواست بررسی حساب مسدود</td>\n    </tr>\n    <tr>\n      <th>2</th>\n      <td>17932</td>\n      <td>Tuesday, November 12, 2019</td>\n      <td>Wednesday, November 13, 2019</td>\n      <td>8</td>\n      <td>گزارش مشکل در پنل تبلیغ‌کننده</td>\n    </tr>\n    <tr>\n      <th>3</th>\n      <td>19203</td>\n      <td>Tuesday, November 12, 2019</td>\n      <td>Wednesday, November 13, 2019</td>\n      <td>46</td>\n      <td>سوال کلی تبلیغ‌کننده</td>\n    </tr>\n    <tr>\n      <th>4</th>\n      <td>11622</td>\n      <td>Tuesday, November 12, 2019</td>\n      <td>Tuesday, November 12, 2019</td>\n      <td>9</td>\n      <td>سوال کلی تبلیغ‌کننده</td>\n    </tr>\n    <tr>\n      <th>...</th>\n      <td>...</td>\n      <td>...</td>\n      <td>...</td>\n      <td>...</td>\n      <td>...</td>\n    </tr>\n    <tr>\n      <th>447</th>\n      <td>19</td>\n      <td>Wednesday, September 11, 2019</td>\n      <td>Wednesday, September 11, 2019</td>\n      <td>8</td>\n      <td>سوال و مشکل فنی در مورد کمپین‌ها</td>\n    </tr>\n    <tr>\n      <th>448</th>\n      <td>15637</td>\n      <td>Wednesday, September 11, 2019</td>\n      <td>Wednesday, September 11, 2019</td>\n      <td>8</td>\n      <td>مالی و صدور فاکتور</td>\n    </tr>\n    <tr>\n      <th>449</th>\n      <td>14505</td>\n      <td>Wednesday, September 11, 2019</td>\n      <td>Wednesday, September 11, 2019</td>\n      <td>8</td>\n      <td>سوال و مشکل فنی در مورد کمپین‌ها</td>\n    </tr>\n    <tr>\n      <th>450</th>\n      <td>2921</td>\n      <td>Tuesday, September 10, 2019</td>\n      <td>Wednesday, September 11, 2019</td>\n      <td>8</td>\n      <td>سوال کلی تبلیغ‌کننده</td>\n    </tr>\n    <tr>\n      <th>451</th>\n      <td>16293</td>\n      <td>Tuesday, September 10, 2019</td>\n      <td>Tuesday, September 10, 2019</td>\n      <td>8</td>\n      <td>سوال و مشکل فنی در مورد کمپین‌ها</td>\n    </tr>\n  </tbody>\n</table>\n<p>452 rows × 5 columns</p>\n</div>"
     },
     "metadata": {},
     "execution_count": 10
    }
   ],
   "source": [
    "tickets"
   ]
  },
  {
   "cell_type": "code",
   "execution_count": 11,
   "metadata": {},
   "outputs": [
    {
     "output_type": "stream",
     "name": "stdout",
     "text": "<class 'pandas.core.frame.DataFrame'>\nRangeIndex: 452 entries, 0 to 451\nData columns (total 5 columns):\n #   Column          Non-Null Count  Dtype         \n---  ------          --------------  -----         \n 0   crm_account_id  452 non-null    int64         \n 1   message_date    452 non-null    datetime64[ns]\n 2   answer_date     452 non-null    datetime64[ns]\n 3   responder_id    452 non-null    int64         \n 4   ticket_type     452 non-null    object        \ndtypes: datetime64[ns](2), int64(2), object(1)\nmemory usage: 17.8+ KB\n"
    },
    {
     "output_type": "execute_result",
     "data": {
      "text/plain": "   crm_account_id message_date answer_date  responder_id  \\\n0             960   2019-11-13  2019-11-13            46   \n1           18214   2019-11-12  2019-11-13            46   \n2           17932   2019-11-12  2019-11-13             8   \n3           19203   2019-11-12  2019-11-13            46   \n4           11622   2019-11-12  2019-11-12             9   \n\n                     ticket_type  \n0           سوال کلی تبلیغ‌کننده  \n1       درخواست بررسی حساب مسدود  \n2  گزارش مشکل در پنل تبلیغ‌کننده  \n3           سوال کلی تبلیغ‌کننده  \n4           سوال کلی تبلیغ‌کننده  ",
      "text/html": "<div>\n<style scoped>\n    .dataframe tbody tr th:only-of-type {\n        vertical-align: middle;\n    }\n\n    .dataframe tbody tr th {\n        vertical-align: top;\n    }\n\n    .dataframe thead th {\n        text-align: right;\n    }\n</style>\n<table border=\"1\" class=\"dataframe\">\n  <thead>\n    <tr style=\"text-align: right;\">\n      <th></th>\n      <th>crm_account_id</th>\n      <th>message_date</th>\n      <th>answer_date</th>\n      <th>responder_id</th>\n      <th>ticket_type</th>\n    </tr>\n  </thead>\n  <tbody>\n    <tr>\n      <th>0</th>\n      <td>960</td>\n      <td>2019-11-13</td>\n      <td>2019-11-13</td>\n      <td>46</td>\n      <td>سوال کلی تبلیغ‌کننده</td>\n    </tr>\n    <tr>\n      <th>1</th>\n      <td>18214</td>\n      <td>2019-11-12</td>\n      <td>2019-11-13</td>\n      <td>46</td>\n      <td>درخواست بررسی حساب مسدود</td>\n    </tr>\n    <tr>\n      <th>2</th>\n      <td>17932</td>\n      <td>2019-11-12</td>\n      <td>2019-11-13</td>\n      <td>8</td>\n      <td>گزارش مشکل در پنل تبلیغ‌کننده</td>\n    </tr>\n    <tr>\n      <th>3</th>\n      <td>19203</td>\n      <td>2019-11-12</td>\n      <td>2019-11-13</td>\n      <td>46</td>\n      <td>سوال کلی تبلیغ‌کننده</td>\n    </tr>\n    <tr>\n      <th>4</th>\n      <td>11622</td>\n      <td>2019-11-12</td>\n      <td>2019-11-12</td>\n      <td>9</td>\n      <td>سوال کلی تبلیغ‌کننده</td>\n    </tr>\n  </tbody>\n</table>\n</div>"
     },
     "metadata": {},
     "execution_count": 11
    }
   ],
   "source": [
    "# Tickets\n",
    "tickets['message_date'] = pd.to_datetime(tickets['message_date'], format=\"%A, %B %d, %Y\")\n",
    "tickets['answer_date'] = pd.to_datetime(tickets['answer_date'], format=\"%A, %B %d, %Y\")\n",
    "tickets.info()\n",
    "tickets.head()"
   ]
  },
  {
   "cell_type": "code",
   "execution_count": 12,
   "metadata": {},
   "outputs": [
    {
     "output_type": "execute_result",
     "data": {
      "text/plain": "      crm_account_id              Transaction_date  Transaction_amount\n0               4983  Thursday, September 19, 2019                2888\n1              10400  Thursday, September 19, 2019                5666\n2              13600  Thursday, September 19, 2019                2888\n3               1979  Thursday, September 19, 2019                5111\n4              13509  Thursday, September 19, 2019                2888\n...              ...                           ...                 ...\n3600            1629     Monday, November 18, 2019                2888\n3601            9377     Monday, November 18, 2019                7871\n3602             433     Monday, November 18, 2019                8444\n3603           11414     Monday, November 18, 2019                2888\n3604            9904     Monday, November 18, 2019               29277\n\n[3605 rows x 3 columns]",
      "text/html": "<div>\n<style scoped>\n    .dataframe tbody tr th:only-of-type {\n        vertical-align: middle;\n    }\n\n    .dataframe tbody tr th {\n        vertical-align: top;\n    }\n\n    .dataframe thead th {\n        text-align: right;\n    }\n</style>\n<table border=\"1\" class=\"dataframe\">\n  <thead>\n    <tr style=\"text-align: right;\">\n      <th></th>\n      <th>crm_account_id</th>\n      <th>Transaction_date</th>\n      <th>Transaction_amount</th>\n    </tr>\n  </thead>\n  <tbody>\n    <tr>\n      <th>0</th>\n      <td>4983</td>\n      <td>Thursday, September 19, 2019</td>\n      <td>2888</td>\n    </tr>\n    <tr>\n      <th>1</th>\n      <td>10400</td>\n      <td>Thursday, September 19, 2019</td>\n      <td>5666</td>\n    </tr>\n    <tr>\n      <th>2</th>\n      <td>13600</td>\n      <td>Thursday, September 19, 2019</td>\n      <td>2888</td>\n    </tr>\n    <tr>\n      <th>3</th>\n      <td>1979</td>\n      <td>Thursday, September 19, 2019</td>\n      <td>5111</td>\n    </tr>\n    <tr>\n      <th>4</th>\n      <td>13509</td>\n      <td>Thursday, September 19, 2019</td>\n      <td>2888</td>\n    </tr>\n    <tr>\n      <th>...</th>\n      <td>...</td>\n      <td>...</td>\n      <td>...</td>\n    </tr>\n    <tr>\n      <th>3600</th>\n      <td>1629</td>\n      <td>Monday, November 18, 2019</td>\n      <td>2888</td>\n    </tr>\n    <tr>\n      <th>3601</th>\n      <td>9377</td>\n      <td>Monday, November 18, 2019</td>\n      <td>7871</td>\n    </tr>\n    <tr>\n      <th>3602</th>\n      <td>433</td>\n      <td>Monday, November 18, 2019</td>\n      <td>8444</td>\n    </tr>\n    <tr>\n      <th>3603</th>\n      <td>11414</td>\n      <td>Monday, November 18, 2019</td>\n      <td>2888</td>\n    </tr>\n    <tr>\n      <th>3604</th>\n      <td>9904</td>\n      <td>Monday, November 18, 2019</td>\n      <td>29277</td>\n    </tr>\n  </tbody>\n</table>\n<p>3605 rows × 3 columns</p>\n</div>"
     },
     "metadata": {},
     "execution_count": 12
    }
   ],
   "source": [
    "transactions"
   ]
  },
  {
   "cell_type": "code",
   "execution_count": 13,
   "metadata": {},
   "outputs": [
    {
     "output_type": "stream",
     "name": "stdout",
     "text": "<class 'pandas.core.frame.DataFrame'>\nRangeIndex: 3605 entries, 0 to 3604\nData columns (total 3 columns):\n #   Column              Non-Null Count  Dtype         \n---  ------              --------------  -----         \n 0   crm_account_id      3605 non-null   int64         \n 1   Transaction_date    3605 non-null   datetime64[ns]\n 2   Transaction_amount  3605 non-null   int64         \ndtypes: datetime64[ns](1), int64(2)\nmemory usage: 84.6 KB\n"
    },
    {
     "output_type": "execute_result",
     "data": {
      "text/plain": "   crm_account_id Transaction_date  Transaction_amount\n0            4983       2019-09-19                2888\n1           10400       2019-09-19                5666\n2           13600       2019-09-19                2888\n3            1979       2019-09-19                5111\n4           13509       2019-09-19                2888",
      "text/html": "<div>\n<style scoped>\n    .dataframe tbody tr th:only-of-type {\n        vertical-align: middle;\n    }\n\n    .dataframe tbody tr th {\n        vertical-align: top;\n    }\n\n    .dataframe thead th {\n        text-align: right;\n    }\n</style>\n<table border=\"1\" class=\"dataframe\">\n  <thead>\n    <tr style=\"text-align: right;\">\n      <th></th>\n      <th>crm_account_id</th>\n      <th>Transaction_date</th>\n      <th>Transaction_amount</th>\n    </tr>\n  </thead>\n  <tbody>\n    <tr>\n      <th>0</th>\n      <td>4983</td>\n      <td>2019-09-19</td>\n      <td>2888</td>\n    </tr>\n    <tr>\n      <th>1</th>\n      <td>10400</td>\n      <td>2019-09-19</td>\n      <td>5666</td>\n    </tr>\n    <tr>\n      <th>2</th>\n      <td>13600</td>\n      <td>2019-09-19</td>\n      <td>2888</td>\n    </tr>\n    <tr>\n      <th>3</th>\n      <td>1979</td>\n      <td>2019-09-19</td>\n      <td>5111</td>\n    </tr>\n    <tr>\n      <th>4</th>\n      <td>13509</td>\n      <td>2019-09-19</td>\n      <td>2888</td>\n    </tr>\n  </tbody>\n</table>\n</div>"
     },
     "metadata": {},
     "execution_count": 13
    }
   ],
   "source": [
    "# Transactions\n",
    "transactions['Transaction_date'] = pd.to_datetime(transactions['Transaction_date'], format=\"%A, %B %d, %Y\")\n",
    "transactions.info()\n",
    "transactions.head()"
   ]
  },
  {
   "cell_type": "code",
   "execution_count": 17,
   "metadata": {},
   "outputs": [
    {
     "output_type": "execute_result",
     "data": {
      "text/plain": "      crm_account_id  status_change_time status_title  account_manager_id\n0                  2 2019-10-31 16:54:00      غیرفعال                  46\n1                  4 2019-10-09 20:54:00   در حال خرج                   9\n2                  9 2019-10-31 16:47:00      غیرفعال                   9\n3                 14 2019-10-31 16:50:00      غیرفعال                   9\n4                 17 2019-10-31 16:48:00      غیرفعال                   9\n...              ...                 ...          ...                 ...\n8288           19256 2019-11-13 11:33:00      ثبت‌نام                   8\n8289           19257 2019-11-13 11:40:00      ثبت‌نام                  46\n8290           19258 2019-11-13 11:54:00   در حال خرج                  46\n8291           19258 2019-11-13 12:09:00   در حال خرج                  46\n8292           19260 2019-11-13 12:41:00      ثبت‌نام                  46\n\n[8293 rows x 4 columns]",
      "text/html": "<div>\n<style scoped>\n    .dataframe tbody tr th:only-of-type {\n        vertical-align: middle;\n    }\n\n    .dataframe tbody tr th {\n        vertical-align: top;\n    }\n\n    .dataframe thead th {\n        text-align: right;\n    }\n</style>\n<table border=\"1\" class=\"dataframe\">\n  <thead>\n    <tr style=\"text-align: right;\">\n      <th></th>\n      <th>crm_account_id</th>\n      <th>status_change_time</th>\n      <th>status_title</th>\n      <th>account_manager_id</th>\n    </tr>\n  </thead>\n  <tbody>\n    <tr>\n      <th>0</th>\n      <td>2</td>\n      <td>2019-10-31 16:54:00</td>\n      <td>غیرفعال</td>\n      <td>46</td>\n    </tr>\n    <tr>\n      <th>1</th>\n      <td>4</td>\n      <td>2019-10-09 20:54:00</td>\n      <td>در حال خرج</td>\n      <td>9</td>\n    </tr>\n    <tr>\n      <th>2</th>\n      <td>9</td>\n      <td>2019-10-31 16:47:00</td>\n      <td>غیرفعال</td>\n      <td>9</td>\n    </tr>\n    <tr>\n      <th>3</th>\n      <td>14</td>\n      <td>2019-10-31 16:50:00</td>\n      <td>غیرفعال</td>\n      <td>9</td>\n    </tr>\n    <tr>\n      <th>4</th>\n      <td>17</td>\n      <td>2019-10-31 16:48:00</td>\n      <td>غیرفعال</td>\n      <td>9</td>\n    </tr>\n    <tr>\n      <th>...</th>\n      <td>...</td>\n      <td>...</td>\n      <td>...</td>\n      <td>...</td>\n    </tr>\n    <tr>\n      <th>8288</th>\n      <td>19256</td>\n      <td>2019-11-13 11:33:00</td>\n      <td>ثبت‌نام</td>\n      <td>8</td>\n    </tr>\n    <tr>\n      <th>8289</th>\n      <td>19257</td>\n      <td>2019-11-13 11:40:00</td>\n      <td>ثبت‌نام</td>\n      <td>46</td>\n    </tr>\n    <tr>\n      <th>8290</th>\n      <td>19258</td>\n      <td>2019-11-13 11:54:00</td>\n      <td>در حال خرج</td>\n      <td>46</td>\n    </tr>\n    <tr>\n      <th>8291</th>\n      <td>19258</td>\n      <td>2019-11-13 12:09:00</td>\n      <td>در حال خرج</td>\n      <td>46</td>\n    </tr>\n    <tr>\n      <th>8292</th>\n      <td>19260</td>\n      <td>2019-11-13 12:41:00</td>\n      <td>ثبت‌نام</td>\n      <td>46</td>\n    </tr>\n  </tbody>\n</table>\n<p>8293 rows × 4 columns</p>\n</div>"
     },
     "metadata": {},
     "execution_count": 17
    }
   ],
   "source": [
    "accounts"
   ]
  },
  {
   "cell_type": "code",
   "execution_count": 18,
   "metadata": {},
   "outputs": [],
   "source": [
    "transactions.to_csv(\"Transactions - Edited.csv\")\n",
    "tasks.to_csv(\"Tasks - Edited.csv\")\n",
    "tickets.to_csv(\"Tickets - Edited.csv\")\n",
    "accounts.to_csv(\"Accounts - Edited.csv\")"
   ]
  },
  {
   "cell_type": "code",
   "execution_count": null,
   "metadata": {},
   "outputs": [],
   "source": []
  }
 ],
 "metadata": {
  "language_info": {
   "codemirror_mode": {
    "name": "ipython",
    "version": 3
   },
   "file_extension": ".py",
   "mimetype": "text/x-python",
   "name": "python",
   "nbconvert_exporter": "python",
   "pygments_lexer": "ipython3",
   "version": "3.7.6-final"
  },
  "orig_nbformat": 2,
  "kernelspec": {
   "name": "python37164bit10virtualenvcae4b91a0a4b4b17865e448f6050f74c",
   "display_name": "Python 3.7.1 64-bit ('10': virtualenv)"
  }
 },
 "nbformat": 4,
 "nbformat_minor": 2
}